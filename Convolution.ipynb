{
  "nbformat": 4,
  "nbformat_minor": 0,
  "metadata": {
    "colab": {
      "provenance": [],
      "authorship_tag": "ABX9TyMPImFzMDi7q0aU81/RXWeG",
      "include_colab_link": true
    },
    "kernelspec": {
      "name": "python3",
      "display_name": "Python 3"
    },
    "language_info": {
      "name": "python"
    }
  },
  "cells": [
    {
      "cell_type": "markdown",
      "metadata": {
        "id": "view-in-github",
        "colab_type": "text"
      },
      "source": [
        "<a href=\"https://colab.research.google.com/github/Aurelian753/ScratchAI/blob/main/Convolution.ipynb\" target=\"_parent\"><img src=\"https://colab.research.google.com/assets/colab-badge.svg\" alt=\"Open In Colab\"/></a>"
      ]
    },
    {
      "cell_type": "code",
      "execution_count": null,
      "metadata": {
        "id": "DCUUncY0i-6m"
      },
      "outputs": [],
      "source": [
        "\n",
        "\n",
        "\n",
        " Filter_Anzahl = None\n",
        " Filter_Größe = None\n",
        " Bild_Höhe = None\n",
        " Bild_Breite = None\n",
        " Bild_Farben_Dimension = 1 #'1'für schwarz weiß\n",
        " tf.keras.layers.Conv2D(Filter_Anzahl,Filter_Größe, activation='relu', input_shape=(Bild_Höhe, Bild_Breite , Bild_Farben_Dimension)),\n"
      ]
    }
  ]
}