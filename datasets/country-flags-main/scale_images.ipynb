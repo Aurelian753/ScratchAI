{
 "cells": [
  {
   "cell_type": "code",
   "execution_count": 17,
   "metadata": {},
   "outputs": [],
   "source": [
    "import numpy as np\n",
    "from PIL import Image\n",
    "import os\n",
    "\n",
    "# Folder containing the images\n",
    "png_folder = 'C:/Users/chris/Documents/GitHub/ScratchAI/datasets/country-flags-main/pngpxs'\n",
    "\n",
    "# Load images as arrays and find the maximum height\n",
    "image_array = [np.array(Image.open(os.path.join(png_folder, png))) for png in os.listdir(png_folder) if png.endswith('.png')]\n",
    "max_height = max(image.shape[0] for image in image_array)"
   ]
  },
  {
   "cell_type": "code",
   "execution_count": 23,
   "metadata": {},
   "outputs": [
    {
     "ename": "FileNotFoundError",
     "evalue": "[WinError 3] The system cannot find the path specified: '/path/to/png100px'",
     "output_type": "error",
     "traceback": [
      "\u001b[1;31m---------------------------------------------------------------------------\u001b[0m",
      "\u001b[1;31mFileNotFoundError\u001b[0m                         Traceback (most recent call last)",
      "Cell \u001b[1;32mIn[23], line 6\u001b[0m\n\u001b[0;32m      3\u001b[0m \u001b[38;5;28;01mimport\u001b[39;00m \u001b[38;5;21;01mos\u001b[39;00m\n\u001b[0;32m      5\u001b[0m \u001b[38;5;66;03m# Load images as arrays and find the maximum height\u001b[39;00m\n\u001b[1;32m----> 6\u001b[0m image_arrays \u001b[38;5;241m=\u001b[39m [np\u001b[38;5;241m.\u001b[39marray(Image\u001b[38;5;241m.\u001b[39mopen(os\u001b[38;5;241m.\u001b[39mpath\u001b[38;5;241m.\u001b[39mjoin(png))) \u001b[38;5;28;01mfor\u001b[39;00m png \u001b[38;5;129;01min\u001b[39;00m \u001b[43mos\u001b[49m\u001b[38;5;241;43m.\u001b[39;49m\u001b[43mlistdir\u001b[49m\u001b[43m(\u001b[49m\u001b[43mpng_folder\u001b[49m\u001b[43m)\u001b[49m]\n\u001b[0;32m      7\u001b[0m max_height \u001b[38;5;241m=\u001b[39m \u001b[38;5;28mmax\u001b[39m(image\u001b[38;5;241m.\u001b[39mshape[\u001b[38;5;241m0\u001b[39m] \u001b[38;5;28;01mfor\u001b[39;00m image \u001b[38;5;129;01min\u001b[39;00m image_arrays)\n\u001b[0;32m      9\u001b[0m \u001b[38;5;66;03m# Pad each image to match the maximum height\u001b[39;00m\n",
      "\u001b[1;31mFileNotFoundError\u001b[0m: [WinError 3] The system cannot find the path specified: '/path/to/png100px'"
     ]
    }
   ],
   "source": [
    "import numpy as np\n",
    "from PIL import Image\n",
    "import os\n",
    "\n",
    "# Load images as arrays and find the maximum height\n",
    "image_arrays = [np.array(Image.open(os.path.join(png))) for png in os.listdir(png_folder)]\n",
    "max_height = max(image.shape[0] for image in image_arrays)\n",
    "\n",
    "# Pad each image to match the maximum height\n",
    "padded_images = []\n",
    "for image in image_arrays:\n",
    "    height_diff = max_height - image.shape[0]\n",
    "    \n",
    "    if image.ndim == 2:  # Grayscale image\n",
    "        padded_image = np.pad(image, ((0, height_diff), (0, 0)), mode='maximum')\n",
    "    elif image.ndim == 3:  # RGB image\n",
    "        padded_image = np.pad(image, ((0, height_diff), (0, 0), (0, 0)), mode='maximum')\n",
    "    else:\n",
    "        raise ValueError(f\"Unexpected number of dimensions in image with shape {image.shape}\")\n",
    "    \n",
    "    padded_images.append(padded_image)\n",
    "\n",
    "print(padded_images)  # List of padded images with the same height"
   ]
  },
  {
   "cell_type": "code",
   "execution_count": null,
   "metadata": {},
   "outputs": [],
   "source": [
    "output_folder = 'C:/Users/chris/Documents/GitHub/ScratchAI/datasets/country-flags-main/png100px'\n",
    "\n",
    "for filename in os.listdir(png_folder):\n",
    "    if filename.endswith('.png'):\n",
    "        # Load the image\n",
    "        image = np.array(Image.open(os.path.join(png_folder, filename)))\n",
    "        \n",
    "        # Calculate the necessary padding for the bottom\n",
    "        height_diff = max_height - image.shape[0]\n",
    "        \n",
    "        # Pad based on the number of dimensions\n",
    "        if image.ndim == 2:  # Grayscale image\n",
    "            padded_image = np.pad(image, ((0, height_diff), (0, 0)), mode='maximum')\n",
    "            img = Image.fromarray(padded_image, mode='L')\n",
    "        elif image.ndim == 3 and image.shape[2] == 3:  # RGB image\n",
    "            padded_image = np.pad(image, ((0, height_diff), (0, 0), (0, 0)), mode='maximum')\n",
    "            img = Image.fromarray(padded_image, mode='RGB')\n",
    "        elif image.ndim == 3 and image.shape[2] == 4:  # RGBA image\n",
    "            padded_image = np.pad(image[:, :, :3], ((0, height_diff), (0, 0), (0, 0)), mode='maximum')\n",
    "            img = Image.fromarray(padded_image, mode='RGB')\n",
    "        else:\n",
    "            raise ValueError(f\"Unexpected image format with shape {image.shape}\")\n",
    "        \n",
    "        # Define the output path using the original filename\n",
    "        output_path = os.path.join(output_folder, filename)\n",
    "        img.save(output_path)\n",
    "\n",
    "print(\"Images saved successfully with original filenames!\")"
   ]
  },
  {
   "cell_type": "code",
   "execution_count": null,
   "metadata": {},
   "outputs": [],
   "source": []
  },
  {
   "cell_type": "code",
   "execution_count": null,
   "metadata": {},
   "outputs": [],
   "source": []
  }
 ],
 "metadata": {
  "kernelspec": {
   "display_name": "Python 3",
   "language": "python",
   "name": "python3"
  },
  "language_info": {
   "codemirror_mode": {
    "name": "ipython",
    "version": 3
   },
   "file_extension": ".py",
   "mimetype": "text/x-python",
   "name": "python",
   "nbconvert_exporter": "python",
   "pygments_lexer": "ipython3",
   "version": "3.12.2"
  }
 },
 "nbformat": 4,
 "nbformat_minor": 2
}
